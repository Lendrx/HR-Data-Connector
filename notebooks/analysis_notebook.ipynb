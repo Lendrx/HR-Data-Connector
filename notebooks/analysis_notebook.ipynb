{
 "cells": [
  {
   "cell_type": "code",
   "execution_count": null,
   "metadata": {},
   "outputs": [],
   "source": [
    "import requests\n",
    "import pandas as pd"
   ]
  },
  {
   "cell_type": "code",
   "execution_count": null,
   "metadata": {},
   "outputs": [],
   "source": [
    "def fetch_clean_data(api_url):\n",
    "    response = requests.get(api_url)\n",
    "    if response.status_code == 200:\n",
    "        clean_data = response.json()[\"cleaned_data\"]\n",
    "        return pd.DataFrame(clean_data)\n",
    "    else:\n",
    "        raise Exception(f\"Fehler beim Abrufen der Daten: {response.status_code}\")"
   ]
  },
  {
   "cell_type": "code",
   "execution_count": null,
   "metadata": {},
   "outputs": [],
   "source": [
    "# API-URL\n",
    "api_url = \"http://127.0.0.1:8000/get_clean_data\""
   ]
  },
  {
   "cell_type": "code",
   "execution_count": null,
   "metadata": {},
   "outputs": [],
   "source": [
    "# Daten abrufen\n",
    "clean_df = fetch_clean_data(api_url)\n",
    "print(clean_df)"
   ]
  },
  {
   "cell_type": "markdown",
   "metadata": {},
   "source": [
    "##### Analyse der transformierten Daten"
   ]
  },
  {
   "cell_type": "code",
   "execution_count": null,
   "metadata": {},
   "outputs": [],
   "source": [
    "total_salary_sum = clean_df[\"Total Salary\"].sum()\n",
    "print(\"Gesamtausgaben für Gehälter:\", total_salary_sum)"
   ]
  }
 ],
 "metadata": {
  "kernelspec": {
   "display_name": "EnvScience",
   "language": "python",
   "name": "python3"
  },
  "language_info": {
   "name": "python",
   "version": "3.12.4"
  }
 },
 "nbformat": 4,
 "nbformat_minor": 2
}
